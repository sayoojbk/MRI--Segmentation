{
  "nbformat": 4,
  "nbformat_minor": 0,
  "metadata": {
    "colab": {
      "name": "MRI-model1.ipynb",
      "version": "0.3.2",
      "provenance": [],
      "include_colab_link": true
    },
    "kernelspec": {
      "name": "python3",
      "display_name": "Python 3"
    },
    "accelerator": "GPU"
  },
  "cells": [
    {
      "cell_type": "markdown",
      "metadata": {
        "id": "view-in-github",
        "colab_type": "text"
      },
      "source": [
        "[View in Colaboratory](https://colab.research.google.com/github/sayoojbk/MRI--Segmentation/blob/master/MRI_model1.ipynb)"
      ]
    },
    {
      "metadata": {
        "id": "hTxOFYUjt7nE",
        "colab_type": "code",
        "colab": {
          "base_uri": "https://localhost:8080/",
          "height": 102
        },
        "outputId": "2c108dfe-94ef-493d-b6a7-5897a882d047"
      },
      "cell_type": "code",
      "source": [
        "!pip3 install torch torchvision"
      ],
      "execution_count": 1,
      "outputs": [
        {
          "output_type": "stream",
          "text": [
            "Requirement already satisfied: torch in /usr/local/lib/python3.6/dist-packages (0.4.1)\n",
            "Requirement already satisfied: torchvision in /usr/local/lib/python3.6/dist-packages (0.2.1)\n",
            "Requirement already satisfied: numpy in /usr/local/lib/python3.6/dist-packages (from torchvision) (1.14.6)\n",
            "Requirement already satisfied: pillow>=4.1.1 in /usr/local/lib/python3.6/dist-packages (from torchvision) (5.3.0)\n",
            "Requirement already satisfied: six in /usr/local/lib/python3.6/dist-packages (from torchvision) (1.11.0)\n"
          ],
          "name": "stdout"
        }
      ]
    },
    {
      "metadata": {
        "id": "U51zQjSeuIgi",
        "colab_type": "code",
        "colab": {}
      },
      "cell_type": "code",
      "source": [
        "# Import Necessary modules\n"
        "import torch\n",
        "import torch.nn as nn\n",
        "import torchvision.transforms as transforms\n",
        "import torchvision.datasets as dsets\n",
        "from torch.autograd import  Variable"
      ],
      "execution_count": 0,
      "outputs": []
    },
    {
      "metadata": {
        "id": "xDkJx9esidrz",
        "colab_type": "code",
        "colab": {
          "base_uri": "https://localhost:8080/",
          "height": 34
        },
        "outputId": "fc447ab4-2668-416e-d2c7-dd7e8da0d14a"
      },
      "cell_type": "code",
      "source": [
        "# Mounting the drive to extract dataset\n"
        "from google.colab import drive\n",
        "drive.mount('/content/drive')\n"
      ],
      "execution_count": 3,
      "outputs": [
        {
          "output_type": "stream",
          "text": [
            "Drive already mounted at /content/drive; to attempt to forcibly remount, call drive.mount(\"/content/drive\", force_remount=True).\n"
          ],
          "name": "stdout"
        }
      ]
    },
    {
      "metadata": {
        "id": "3kIkX87qiguE",
        "colab_type": "code",
        "colab": {
          "base_uri": "https://localhost:8080/",
          "height": 34
        },
        "outputId": "adf6c943-92cc-4d1d-92ac-be1dab419e3b"
      },
      "cell_type": "code",
      "source": [
        "!ls\n",
        "\n"
      ],
      "execution_count": 4,
      "outputs": [
        {
          "output_type": "stream",
          "text": [
            "drive  sample_data\n"
          ],
          "name": "stdout"
        }
      ]
    },
    {
      "metadata": {
        "id": "MB0kDjPfj_p7",
        "colab_type": "code",
        "colab": {
          "base_uri": "https://localhost:8080/",
          "height": 34
        },
        "outputId": "201e7753-3f0e-43b3-d499-36e49ffd9e92"
      },
      "cell_type": "code",
      "source": [
        "cd drive/My Drive/dataaaaa\n"
      ],
      "execution_count": 5,
      "outputs": [
        {
          "output_type": "stream",
          "text": [
            "/content/drive/My Drive/dataaaaa\n"
          ],
          "name": "stdout"
        }
      ]
    },
    {
      "metadata": {
        "id": "UwBwe5apiy5K",
        "colab_type": "code",
        "colab": {
          "base_uri": "https://localhost:8080/",
          "height": 34
        },
        "outputId": "96718996-442c-4ac7-a975-00b6b273a030"
      },
      "cell_type": "code",
      "source": [
        "!ls\n"
      ],
      "execution_count": 6,
      "outputs": [
        {
          "output_type": "stream",
          "text": [
            "dataset  dataset.zip\n"
          ],
          "name": "stdout"
        }
      ]
    },
    {
      "metadata": {
        "id": "4RqWM3cYi364",
        "colab_type": "code",
        "colab": {}
      },
      "cell_type": "code",
      "source": [
        "trans = transforms.Compose([\n",
        "    transforms.Grayscale(num_output_channels=1),\n",
        "    transforms.ToTensor()\n",
        "])"
      ],
      "execution_count": 0,
      "outputs": []
    },
    {
      "metadata": {
        "id": "vwCWF-EV9njW",
        "colab_type": "code",
        "colab": {}
      },
      "cell_type": "code",
      "source": [
        "train_data = dsets.ImageFolder(\"dataset/train\",transform=trans)\n",
        "test_data = dsets.ImageFolder(\"dataset/test\",transform=trans)"
      ],
      "execution_count": 0,
      "outputs": []
    },
    {
      "metadata": {
        "id": "T5Yvw9QIjDqj",
        "colab_type": "code",
        "colab": {}
      },
      "cell_type": "code",
      "source": [
        "# Make dataset iterable\n",
        "\n",
        "\n",
        "batch_size = 64\n",
        "n_iters = 4000\n",
        "num_epochs = int(n_iters / (5121/batch_size))*5\n",
        "\n",
        "train_loader = torch.utils.data.DataLoader(dataset=train_data, batch_size=batch_size, shuffle=True)\n",
        "test_loader = torch.utils.data.DataLoader(dataset=test_data, batch_size=batch_size, shuffle=False)"
      ],
      "execution_count": 0,
      "outputs": []
    },
    {
      "metadata": {
        "id": "FrtKdVPcjNDI",
        "colab_type": "code",
        "colab": {}
      },
      "cell_type": "code",
      "source": [
        "# Create Model Class\n",
        "class CNN(nn.Module):\n",
        "  def __init__(self):\n",
        "    super(CNN, self).__init__()\n",
        "    \n",
        "    # Convolution 1\n",
        "    self.cnn1 = nn.Conv2d(in_channels=1, out_channels=16, kernel_size=5, stride=1, padding=2)\n",
        "    self.relu1 = nn.ReLU()\n",
        "    \n",
        "    # Max pool 1\n",
        "    self.maxpool1 = nn.AdaptiveMaxPool2d(output_size=14)\n",
        "    \n",
        "    # Convolution 2\n",
        "    self.cnn2 = nn.Conv2d(in_channels=1, out_channels=32, kernel_size=5, stride=1, padding=2)\n",
        "    self.relu2 = nn.ReLU()\n",
        "    \n",
        "    # Max pool 2\n",
        "    self.maxpool2 = nn.AdaptiveMaxPool2d(output_size=7)\n",
        "    \n",
        "    # FC (readout)\n",
        "    self.fc1 = nn.Linear(32*7*7, 4)\n",
        "   \n",
        "    \n",
        "  def forward(self, x):\n",
        "    # Convolution 1\n",
        "    out = self.cnn1(x)\n",
        "    out = self.relu1(out)\n",
        "    \n",
        "    # Max pool 1\n",
        "    out = self.maxpool1(out)\n",
        "    \n",
        "    # Convolution 2\n",
        "    out = self.cnn2(x)\n",
        "    out = self.relu2(out)\n",
        "    \n",
        "    # Max pool 2\n",
        "    out = self.maxpool2(out)\n",
        "    \n",
        "    # Resize\n",
        "    # 100 is the batch size...\n",
        "    # (100, 32, 7, 7) -> (100, 32*7*7)\n",
        "    out = out.view(out.size(0), -1)\n",
        "    \n",
        "    # Linear (readout)\n",
        "    out = self.fc1(out)\n",
        "    \n",
        "    return out"
      ],
      "execution_count": 0,
      "outputs": []
    },
    {
      "metadata": {
        "id": "dU996rwSjT2z",
        "colab_type": "code",
        "colab": {
          "base_uri": "https://localhost:8080/",
          "height": 170
        },
        "outputId": "f805ab2e-501b-4715-b689-0fb7e8d4c372"
      },
      "cell_type": "code",
      "source": [
        "model = CNN()\n",
        "model.cuda()"
      ],
      "execution_count": 26,
      "outputs": [
        {
          "output_type": "execute_result",
          "data": {
            "text/plain": [
              "CNN(\n",
              "  (cnn1): Conv2d(1, 16, kernel_size=(5, 5), stride=(1, 1), padding=(2, 2))\n",
              "  (relu1): ReLU()\n",
              "  (maxpool1): AdaptiveMaxPool2d(output_size=14)\n",
              "  (cnn2): Conv2d(1, 32, kernel_size=(5, 5), stride=(1, 1), padding=(2, 2))\n",
              "  (relu2): ReLU()\n",
              "  (maxpool2): AdaptiveMaxPool2d(output_size=7)\n",
              "  (fc1): Linear(in_features=1568, out_features=4, bias=True)\n",
              ")"
            ]
          },
          "metadata": {
            "tags": []
          },
          "execution_count": 26
        }
      ]
    },
    {
      "metadata": {
        "id": "G02FmEmhjaBA",
        "colab_type": "code",
        "colab": {}
      },
      "cell_type": "code",
      "source": [
        "criterion = nn.CrossEntropyLoss()\n",
        "learning_rate = 0.01\n",
        "optimizer = torch.optim.SGD(model.parameters(), lr=learning_rate)"
      ],
      "execution_count": 0,
      "outputs": []
    },
    {
      "metadata": {
        "id": "x9QfI3vzjZMC",
        "colab_type": "code",
        "colab": {
          "base_uri": "https://localhost:8080/",
          "height": 343
        },
        "outputId": "0c06c637-4f30-404f-e99a-7ac7bd477994"
      },
      "cell_type": "code",
      "source": [
        "# Train the model\n",
        "\n",
        "# Convert input/labels to Variables\n",
        "# Clear gradient buffers\n",
        "# Get output given the inputs\n",
        "# Get loss\n",
        "# Get gradients w.r.t parameters\n",
        "# Update parameters using the gradients\n",
        "# Repeat\n",
        "\n",
        "import time\n",
        "tick = time.time()\n",
        "\n",
        "iter = 0\n",
        "for epoch in range(num_epochs):\n",
        "  for i, (images, labels) in enumerate(train_loader):\n",
        "    \n",
        "    \n",
        "    images = Variable(images.cuda()) # No need to resize\n",
        "    labels = Variable(labels.cuda())\n",
        "    \n",
        "    optimizer.zero_grad()\n",
        "    \n",
        "    outputs = model(images)\n",
        "    \n",
        "    loss = criterion(outputs, labels)\n",
        "    \n",
        "    loss.backward()\n",
        "    \n",
        "    optimizer.step()\n",
        "    \n",
        "    iter += 1\n",
        "    \n",
        "    if iter % 500 == 0:\n",
        "      correct = 0\n",
        "      total = 0\n",
        "      \n",
        "      for images, labels in test_loader:\n",
        "        \n",
        "        images = Variable(images.cuda())\n",
        "        \n",
        "        outputs = model(images.cuda())\n",
        "        \n",
        "        _, predicted = torch.max(outputs.data, 1)\n",
        "        \n",
        "        total += labels.size(0)\n",
        "        \n",
        "        correct += ((predicted.cpu()) == (labels.cpu())).sum().item()\n",
        "        \n",
        "      accuracy = 100 * correct / total\n",
        "      \n",
        "      print('Iteration: {}, Loss: {}, Accuracy:{}'.format(iter, loss.data[0], accuracy))\n",
        "    \n",
        "tock = time.time()    "
      ],
      "execution_count": 21,
      "outputs": [
        {
          "output_type": "stream",
          "text": [
            "/usr/local/lib/python3.6/dist-packages/ipykernel_launcher.py:43: UserWarning: invalid index of a 0-dim tensor. This will be an error in PyTorch 0.5. Use tensor.item() to convert a 0-dim tensor to a Python number\n"
          ],
          "name": "stderr"
        },
        {
          "output_type": "stream",
          "text": [
            "Iteration: 500, Loss: 0.5951892733573914, Accuracy:61.83970856102004\n",
            "Iteration: 1000, Loss: 0.6306047439575195, Accuracy:64.66302367941712\n",
            "Iteration: 1500, Loss: 0.6029518842697144, Accuracy:69.03460837887067\n",
            "Iteration: 2000, Loss: 0.4918004870414734, Accuracy:62.84153005464481\n",
            "Iteration: 2500, Loss: 0.5626450777053833, Accuracy:68.12386156648452\n",
            "Iteration: 3000, Loss: 0.4477657377719879, Accuracy:67.94171220400729\n",
            "Iteration: 3500, Loss: 0.5912415385246277, Accuracy:66.48451730418944\n",
            "Iteration: 4000, Loss: 0.43413957953453064, Accuracy:71.22040072859745\n",
            "Iteration: 4500, Loss: 0.3767341077327728, Accuracy:70.85610200364299\n",
            "Iteration: 5000, Loss: 0.3739921450614929, Accuracy:68.76138433515483\n",
            "Iteration: 5500, Loss: 0.4006391763687134, Accuracy:71.22040072859745\n",
            "Iteration: 6000, Loss: 0.31744712591171265, Accuracy:69.39890710382514\n",
            "Iteration: 6500, Loss: 0.3128824234008789, Accuracy:70.12750455373406\n",
            "Iteration: 7000, Loss: 0.3286672830581665, Accuracy:70.40072859744991\n",
            "Iteration: 7500, Loss: 0.36121344566345215, Accuracy:69.2167577413479\n",
            "Iteration: 8000, Loss: 0.31757470965385437, Accuracy:70.85610200364299\n",
            "Iteration: 8500, Loss: 0.3727346360683441, Accuracy:71.31147540983606\n"
          ],
          "name": "stdout"
        }
      ]
    },
    {
      "metadata": {
        "id": "rxU-3-5CjoJg",
        "colab_type": "code",
        "colab": {
          "base_uri": "https://localhost:8080/",
          "height": 34
        },
        "outputId": "a97bf7e5-8a45-415e-dafc-4834f95ccd41"
      },
      "cell_type": "code",
      "source": [
        "print('Time required is', tock - tick)"
      ],
      "execution_count": 28,
      "outputs": [
        {
          "output_type": "stream",
          "text": [
            "Time required is 2237.6388063430786\n"
          ],
          "name": "stdout"
        }
      ]
    },
    {
      "metadata": {
        "id": "BC0HlPmtj0Ud",
        "colab_type": "code",
        "colab": {}
      },
      "cell_type": "code",
      "source": [
        "torch.save(model.state_dict(), 'model1.ckpt')"
      ],
      "execution_count": 0,
      "outputs": []
    },
    {
      "metadata": {
        "id": "xIf9HSLHwfgz",
        "colab_type": "code",
        "colab": {}
      },
      "cell_type": "code",
      "source": [
        ""
      ],
      "execution_count": 0,
      "outputs": []
    }
  ]
}
